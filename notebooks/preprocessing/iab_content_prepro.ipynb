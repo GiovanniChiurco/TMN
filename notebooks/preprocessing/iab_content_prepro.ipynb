{
 "cells": [
  {
   "cell_type": "code",
   "execution_count": 1,
   "id": "initial_id",
   "metadata": {
    "collapsed": true,
    "ExecuteTime": {
     "end_time": "2024-04-15T10:34:40.895461Z",
     "start_time": "2024-04-15T10:34:40.357214Z"
    }
   },
   "outputs": [],
   "source": [
    "import pandas as pd\n",
    "import numpy as np\n",
    "import os"
   ]
  },
  {
   "cell_type": "code",
   "outputs": [],
   "source": [
    "iab_tax_path = 'data/content/Content Taxonomy 3.0.tsv'"
   ],
   "metadata": {
    "collapsed": false,
    "ExecuteTime": {
     "end_time": "2024-04-15T09:58:37.794633Z",
     "start_time": "2024-04-15T09:58:37.783669Z"
    }
   },
   "id": "d0e5c349f1a2b99e",
   "execution_count": 3
  },
  {
   "cell_type": "code",
   "outputs": [
    {
     "data": {
      "text/plain": "  Unique ID Parent                              Name       Tier 1  \\\n0       150    150                       Attractions  Attractions   \n1       151    150         Amusement and Theme Parks  Attractions   \n2       179    150                Bars & Restaurants  Attractions   \n3       181    150                Casinos & Gambling  Attractions   \n4       153    150  Historic Site and Landmark Tours  Attractions   \n\n                             Tier 2 Tier 3 Tier 4 Unnamed: 7  \n0                               NaN    NaN    NaN        NaN  \n1         Amusement and Theme Parks    NaN    NaN        NaN  \n2                Bars & Restaurants    NaN    NaN        NaN  \n3                Casinos & Gambling    NaN    NaN        NaN  \n4  Historic Site and Landmark Tours    NaN    NaN        NaN  ",
      "text/html": "<div>\n<style scoped>\n    .dataframe tbody tr th:only-of-type {\n        vertical-align: middle;\n    }\n\n    .dataframe tbody tr th {\n        vertical-align: top;\n    }\n\n    .dataframe thead th {\n        text-align: right;\n    }\n</style>\n<table border=\"1\" class=\"dataframe\">\n  <thead>\n    <tr style=\"text-align: right;\">\n      <th></th>\n      <th>Unique ID</th>\n      <th>Parent</th>\n      <th>Name</th>\n      <th>Tier 1</th>\n      <th>Tier 2</th>\n      <th>Tier 3</th>\n      <th>Tier 4</th>\n      <th>Unnamed: 7</th>\n    </tr>\n  </thead>\n  <tbody>\n    <tr>\n      <th>0</th>\n      <td>150</td>\n      <td>150</td>\n      <td>Attractions</td>\n      <td>Attractions</td>\n      <td>NaN</td>\n      <td>NaN</td>\n      <td>NaN</td>\n      <td>NaN</td>\n    </tr>\n    <tr>\n      <th>1</th>\n      <td>151</td>\n      <td>150</td>\n      <td>Amusement and Theme Parks</td>\n      <td>Attractions</td>\n      <td>Amusement and Theme Parks</td>\n      <td>NaN</td>\n      <td>NaN</td>\n      <td>NaN</td>\n    </tr>\n    <tr>\n      <th>2</th>\n      <td>179</td>\n      <td>150</td>\n      <td>Bars &amp; Restaurants</td>\n      <td>Attractions</td>\n      <td>Bars &amp; Restaurants</td>\n      <td>NaN</td>\n      <td>NaN</td>\n      <td>NaN</td>\n    </tr>\n    <tr>\n      <th>3</th>\n      <td>181</td>\n      <td>150</td>\n      <td>Casinos &amp; Gambling</td>\n      <td>Attractions</td>\n      <td>Casinos &amp; Gambling</td>\n      <td>NaN</td>\n      <td>NaN</td>\n      <td>NaN</td>\n    </tr>\n    <tr>\n      <th>4</th>\n      <td>153</td>\n      <td>150</td>\n      <td>Historic Site and Landmark Tours</td>\n      <td>Attractions</td>\n      <td>Historic Site and Landmark Tours</td>\n      <td>NaN</td>\n      <td>NaN</td>\n      <td>NaN</td>\n    </tr>\n  </tbody>\n</table>\n</div>"
     },
     "execution_count": 5,
     "metadata": {},
     "output_type": "execute_result"
    }
   ],
   "source": [
    "iab_tax = pd.read_csv(iab_tax_path,\n",
    "                      sep='\\t',\n",
    "                      header=1, # IAB Content Taxonomy has 2 headers\n",
    ")\n",
    "iab_tax.head()"
   ],
   "metadata": {
    "collapsed": false,
    "ExecuteTime": {
     "end_time": "2024-04-15T09:58:44.362743Z",
     "start_time": "2024-04-15T09:58:44.326373Z"
    }
   },
   "id": "28f6904b05d194c9",
   "execution_count": 5
  },
  {
   "cell_type": "code",
   "outputs": [],
   "source": [
    "# Substitute NaN with empty string in columns starting with 'Tier'\n",
    "iab_tax.loc[:, iab_tax.columns.str.startswith('Tier')] = iab_tax.loc[:, iab_tax.columns.str.startswith('Tier')].fillna('')\n",
    "# Create a new column by concatenating columns starting with 'Tier'\n",
    "iab_tax['combined'] = iab_tax.loc[:, iab_tax.columns.str.startswith('Tier')].apply(lambda x: ' '.join(x), axis=1)\n",
    "# Delete leading and trailing whitespaces\n",
    "iab_tax['combined'] = iab_tax['combined'].str.strip()"
   ],
   "metadata": {
    "collapsed": false,
    "ExecuteTime": {
     "end_time": "2024-04-15T09:59:03.806552Z",
     "start_time": "2024-04-15T09:59:03.778779Z"
    }
   },
   "id": "768fa7937744cc5f",
   "execution_count": 6
  },
  {
   "cell_type": "code",
   "outputs": [],
   "source": [
    "# Fill the Nan in Parent with 0\n",
    "iab_tax['Parent'] = iab_tax['Parent'].fillna(0)"
   ],
   "metadata": {
    "collapsed": false,
    "ExecuteTime": {
     "end_time": "2024-04-15T09:59:45.252244Z",
     "start_time": "2024-04-15T09:59:45.242028Z"
    }
   },
   "id": "596edb4f91d631f6",
   "execution_count": 8
  },
  {
   "cell_type": "code",
   "outputs": [
    {
     "data": {
      "text/plain": "  Unique ID Parent                              Name       Tier 1  \\\n0       150    150                       Attractions  Attractions   \n1       151    150         Amusement and Theme Parks  Attractions   \n2       179    150                Bars & Restaurants  Attractions   \n3       181    150                Casinos & Gambling  Attractions   \n4       153    150  Historic Site and Landmark Tours  Attractions   \n\n                             Tier 2 Tier 3 Tier 4 Unnamed: 7  \\\n0                                                        NaN   \n1         Amusement and Theme Parks                      NaN   \n2                Bars & Restaurants                      NaN   \n3                Casinos & Gambling                      NaN   \n4  Historic Site and Landmark Tours                      NaN   \n\n                                       combined  \n0                                   Attractions  \n1         Attractions Amusement and Theme Parks  \n2                Attractions Bars & Restaurants  \n3                Attractions Casinos & Gambling  \n4  Attractions Historic Site and Landmark Tours  ",
      "text/html": "<div>\n<style scoped>\n    .dataframe tbody tr th:only-of-type {\n        vertical-align: middle;\n    }\n\n    .dataframe tbody tr th {\n        vertical-align: top;\n    }\n\n    .dataframe thead th {\n        text-align: right;\n    }\n</style>\n<table border=\"1\" class=\"dataframe\">\n  <thead>\n    <tr style=\"text-align: right;\">\n      <th></th>\n      <th>Unique ID</th>\n      <th>Parent</th>\n      <th>Name</th>\n      <th>Tier 1</th>\n      <th>Tier 2</th>\n      <th>Tier 3</th>\n      <th>Tier 4</th>\n      <th>Unnamed: 7</th>\n      <th>combined</th>\n    </tr>\n  </thead>\n  <tbody>\n    <tr>\n      <th>0</th>\n      <td>150</td>\n      <td>150</td>\n      <td>Attractions</td>\n      <td>Attractions</td>\n      <td></td>\n      <td></td>\n      <td></td>\n      <td>NaN</td>\n      <td>Attractions</td>\n    </tr>\n    <tr>\n      <th>1</th>\n      <td>151</td>\n      <td>150</td>\n      <td>Amusement and Theme Parks</td>\n      <td>Attractions</td>\n      <td>Amusement and Theme Parks</td>\n      <td></td>\n      <td></td>\n      <td>NaN</td>\n      <td>Attractions Amusement and Theme Parks</td>\n    </tr>\n    <tr>\n      <th>2</th>\n      <td>179</td>\n      <td>150</td>\n      <td>Bars &amp; Restaurants</td>\n      <td>Attractions</td>\n      <td>Bars &amp; Restaurants</td>\n      <td></td>\n      <td></td>\n      <td>NaN</td>\n      <td>Attractions Bars &amp; Restaurants</td>\n    </tr>\n    <tr>\n      <th>3</th>\n      <td>181</td>\n      <td>150</td>\n      <td>Casinos &amp; Gambling</td>\n      <td>Attractions</td>\n      <td>Casinos &amp; Gambling</td>\n      <td></td>\n      <td></td>\n      <td>NaN</td>\n      <td>Attractions Casinos &amp; Gambling</td>\n    </tr>\n    <tr>\n      <th>4</th>\n      <td>153</td>\n      <td>150</td>\n      <td>Historic Site and Landmark Tours</td>\n      <td>Attractions</td>\n      <td>Historic Site and Landmark Tours</td>\n      <td></td>\n      <td></td>\n      <td>NaN</td>\n      <td>Attractions Historic Site and Landmark Tours</td>\n    </tr>\n  </tbody>\n</table>\n</div>"
     },
     "execution_count": 9,
     "metadata": {},
     "output_type": "execute_result"
    }
   ],
   "source": [
    "iab_tax.head()"
   ],
   "metadata": {
    "collapsed": false,
    "ExecuteTime": {
     "end_time": "2024-04-15T09:59:47.291168Z",
     "start_time": "2024-04-15T09:59:47.262148Z"
    }
   },
   "id": "98345e87c4566887",
   "execution_count": 9
  },
  {
   "cell_type": "code",
   "outputs": [
    {
     "name": "stdout",
     "output_type": "stream",
     "text": [
      "<class 'pandas.core.frame.DataFrame'>\n",
      "RangeIndex: 703 entries, 0 to 702\n",
      "Data columns (total 9 columns):\n",
      " #   Column      Non-Null Count  Dtype \n",
      "---  ------      --------------  ----- \n",
      " 0   Unique ID   703 non-null    object\n",
      " 1   Parent      703 non-null    object\n",
      " 2   Name        703 non-null    object\n",
      " 3   Tier 1      703 non-null    object\n",
      " 4   Tier 2      703 non-null    object\n",
      " 5   Tier 3      703 non-null    object\n",
      " 6   Tier 4      703 non-null    object\n",
      " 7   Unnamed: 7  64 non-null     object\n",
      " 8   combined    703 non-null    object\n",
      "dtypes: object(9)\n",
      "memory usage: 49.6+ KB\n"
     ]
    }
   ],
   "source": [
    "iab_tax.info()"
   ],
   "metadata": {
    "collapsed": false,
    "ExecuteTime": {
     "end_time": "2024-04-15T09:59:55.546091Z",
     "start_time": "2024-04-15T09:59:55.523980Z"
    }
   },
   "id": "9de875464da744df",
   "execution_count": 10
  },
  {
   "cell_type": "code",
   "outputs": [],
   "source": [
    "taxonomy_name = 'iab_content'"
   ],
   "metadata": {
    "collapsed": false,
    "ExecuteTime": {
     "end_time": "2024-04-15T10:01:23.507202Z",
     "start_time": "2024-04-15T10:01:23.493429Z"
    }
   },
   "id": "21353d24aec58ffb",
   "execution_count": 11
  },
  {
   "cell_type": "code",
   "outputs": [],
   "source": [
    "dataset_path = '../../data/'"
   ],
   "metadata": {
    "collapsed": false,
    "ExecuteTime": {
     "end_time": "2024-04-15T10:02:42.359032Z",
     "start_time": "2024-04-15T10:02:42.339356Z"
    }
   },
   "id": "728f54cdb4f76867",
   "execution_count": 13
  },
  {
   "cell_type": "code",
   "outputs": [],
   "source": [
    "taxonomy_data_path = dataset_path + taxonomy_name + '/'"
   ],
   "metadata": {
    "collapsed": false,
    "ExecuteTime": {
     "end_time": "2024-04-15T10:04:30.423470Z",
     "start_time": "2024-04-15T10:04:30.412463Z"
    }
   },
   "id": "91b75eaa9d62ea71",
   "execution_count": 17
  },
  {
   "cell_type": "markdown",
   "source": [
    "# Generate .terms file"
   ],
   "metadata": {
    "collapsed": false
   },
   "id": "f8ef3d9ab02445e9"
  },
  {
   "cell_type": "code",
   "outputs": [],
   "source": [
    "with open(f'{taxonomy_data_path}{taxonomy_name}.terms', 'w') as f:\n",
    "    for index, row in iab_tax.iterrows():\n",
    "        f.write(f\"{row['Unique ID']}\\t{row['combined']}\\n\")"
   ],
   "metadata": {
    "collapsed": false,
    "ExecuteTime": {
     "end_time": "2024-04-15T10:04:37.877150Z",
     "start_time": "2024-04-15T10:04:37.793749Z"
    }
   },
   "id": "182973b269ee27c0",
   "execution_count": 18
  },
  {
   "cell_type": "markdown",
   "source": [
    "# Generate .taxo file"
   ],
   "metadata": {
    "collapsed": false
   },
   "id": "d3c7af924c73e446"
  },
  {
   "cell_type": "code",
   "outputs": [],
   "source": [
    "with open(f'{taxonomy_data_path}{taxonomy_name}.taxo', 'w') as f:\n",
    "    for index, row in iab_tax.iterrows():\n",
    "        if row['Parent'] != 0:\n",
    "            f.write(f\"{row['Parent']}\\t{row['Unique ID']}\\n\")"
   ],
   "metadata": {
    "collapsed": false,
    "ExecuteTime": {
     "end_time": "2024-04-15T10:04:41.786724Z",
     "start_time": "2024-04-15T10:04:41.684009Z"
    }
   },
   "id": "9802a9617c970573",
   "execution_count": 19
  },
  {
   "cell_type": "markdown",
   "source": [
    "# Generate embeddings"
   ],
   "metadata": {
    "collapsed": false
   },
   "id": "1fe974640009af12"
  },
  {
   "cell_type": "code",
   "outputs": [],
   "source": [
    "import sentence_transformers\n",
    "from sentence_transformers import SentenceTransformer, util"
   ],
   "metadata": {
    "collapsed": false,
    "ExecuteTime": {
     "end_time": "2024-04-09T07:59:18.941838Z",
     "start_time": "2024-04-09T07:59:16.046105Z"
    }
   },
   "id": "cfb0dd0819ccac07",
   "execution_count": 14
  },
  {
   "cell_type": "code",
   "outputs": [
    {
     "name": "stdout",
     "output_type": "stream",
     "text": [
      "Found embeddings of shape: \n",
      "(703, 384)\n"
     ]
    }
   ],
   "source": [
    "embed_dir = 'data/content/embeddings/'\n",
    "iab_embed_file = embed_dir + 'content_tax_embeddings.npy'\n",
    "if os.path.exists(iab_embed_file):\n",
    "    taxonomy_embeddings = np.load(iab_embed_file)\n",
    "    print(\"Found embeddings of shape: \")\n",
    "    print(taxonomy_embeddings.shape)"
   ],
   "metadata": {
    "collapsed": false,
    "ExecuteTime": {
     "end_time": "2024-04-15T10:15:52.463466Z",
     "start_time": "2024-04-15T10:15:52.434146Z"
    }
   },
   "id": "de819d9dae5537cc",
   "execution_count": 21
  },
  {
   "cell_type": "code",
   "outputs": [],
   "source": [
    "taxon_id = iab_tax['Unique ID'].values"
   ],
   "metadata": {
    "collapsed": false,
    "ExecuteTime": {
     "end_time": "2024-04-15T10:20:30.750527Z",
     "start_time": "2024-04-15T10:20:30.729142Z"
    }
   },
   "id": "77d18caa5c433da6",
   "execution_count": 22
  },
  {
   "cell_type": "code",
   "outputs": [],
   "source": [
    "with open(f'{taxonomy_data_path}{taxonomy_name}.terms.embed', 'w') as f:\n",
    "    f.write(f\"{taxonomy_embeddings.shape[0]} {taxonomy_embeddings.shape[1]}\\n\")\n",
    "    for tax_id, tax_embed in zip(taxon_id, taxonomy_embeddings):\n",
    "        f.write(f\"{tax_id} {' '.join(map(str, tax_embed))}\\n\")"
   ],
   "metadata": {
    "collapsed": false,
    "ExecuteTime": {
     "end_time": "2024-04-15T10:20:33.264980Z",
     "start_time": "2024-04-15T10:20:32.857915Z"
    }
   },
   "id": "962b55e0f837151",
   "execution_count": 23
  },
  {
   "cell_type": "code",
   "outputs": [
    {
     "ename": "FileNotFoundError",
     "evalue": "Could not find module 'C:\\Users\\giochi99_Win\\PycharmProjects\\taxo_compl\\.venv\\lib\\site-packages\\dgl\\dgl.dll'. Try using the full path with constructor syntax.",
     "output_type": "error",
     "traceback": [
      "\u001B[1;31m---------------------------------------------------------------------------\u001B[0m",
      "\u001B[1;31mFileNotFoundError\u001B[0m                         Traceback (most recent call last)",
      "Cell \u001B[1;32mIn[24], line 1\u001B[0m\n\u001B[1;32m----> 1\u001B[0m \u001B[38;5;28;01mimport\u001B[39;00m \u001B[38;5;21;01mdgl\u001B[39;00m\n",
      "File \u001B[1;32m~\\PycharmProjects\\taxo_compl\\.venv\\lib\\site-packages\\dgl\\__init__.py:14\u001B[0m\n\u001B[0;32m     12\u001B[0m \u001B[38;5;66;03m# Backend and logging should be imported before other modules.\u001B[39;00m\n\u001B[0;32m     13\u001B[0m \u001B[38;5;28;01mfrom\u001B[39;00m \u001B[38;5;21;01m.\u001B[39;00m\u001B[38;5;21;01mlogging\u001B[39;00m \u001B[38;5;28;01mimport\u001B[39;00m enable_verbose_logging  \u001B[38;5;66;03m# usort: skip\u001B[39;00m\n\u001B[1;32m---> 14\u001B[0m \u001B[38;5;28;01mfrom\u001B[39;00m \u001B[38;5;21;01m.\u001B[39;00m\u001B[38;5;21;01mbackend\u001B[39;00m \u001B[38;5;28;01mimport\u001B[39;00m backend_name, load_backend  \u001B[38;5;66;03m# usort: skip\u001B[39;00m\n\u001B[0;32m     16\u001B[0m \u001B[38;5;28;01mfrom\u001B[39;00m \u001B[38;5;21;01m.\u001B[39;00m \u001B[38;5;28;01mimport\u001B[39;00m (\n\u001B[0;32m     17\u001B[0m     container,\n\u001B[0;32m     18\u001B[0m     cuda,\n\u001B[1;32m   (...)\u001B[0m\n\u001B[0;32m     24\u001B[0m     storages,\n\u001B[0;32m     25\u001B[0m )\n\u001B[0;32m     26\u001B[0m \u001B[38;5;28;01mfrom\u001B[39;00m \u001B[38;5;21;01m.\u001B[39;00m\u001B[38;5;21;01m_ffi\u001B[39;00m\u001B[38;5;21;01m.\u001B[39;00m\u001B[38;5;21;01mbase\u001B[39;00m \u001B[38;5;28;01mimport\u001B[39;00m __version__, DGLError\n",
      "File \u001B[1;32m~\\PycharmProjects\\taxo_compl\\.venv\\lib\\site-packages\\dgl\\backend\\__init__.py:122\u001B[0m\n\u001B[0;32m    118\u001B[0m         set_default_backend(default_dir, \u001B[38;5;124m\"\u001B[39m\u001B[38;5;124mpytorch\u001B[39m\u001B[38;5;124m\"\u001B[39m)\n\u001B[0;32m    119\u001B[0m         \u001B[38;5;28;01mreturn\u001B[39;00m \u001B[38;5;124m\"\u001B[39m\u001B[38;5;124mpytorch\u001B[39m\u001B[38;5;124m\"\u001B[39m\n\u001B[1;32m--> 122\u001B[0m \u001B[43mload_backend\u001B[49m\u001B[43m(\u001B[49m\u001B[43mget_preferred_backend\u001B[49m\u001B[43m(\u001B[49m\u001B[43m)\u001B[49m\u001B[43m)\u001B[49m\n\u001B[0;32m    125\u001B[0m \u001B[38;5;28;01mdef\u001B[39;00m \u001B[38;5;21mis_enabled\u001B[39m(api):\n\u001B[0;32m    126\u001B[0m \u001B[38;5;250m    \u001B[39m\u001B[38;5;124;03m\"\"\"Return true if the api is enabled by the current backend.\u001B[39;00m\n\u001B[0;32m    127\u001B[0m \n\u001B[0;32m    128\u001B[0m \u001B[38;5;124;03m    Parameters\u001B[39;00m\n\u001B[1;32m   (...)\u001B[0m\n\u001B[0;32m    136\u001B[0m \u001B[38;5;124;03m        True if the API is enabled by the current backend.\u001B[39;00m\n\u001B[0;32m    137\u001B[0m \u001B[38;5;124;03m    \"\"\"\u001B[39;00m\n",
      "File \u001B[1;32m~\\PycharmProjects\\taxo_compl\\.venv\\lib\\site-packages\\dgl\\backend\\__init__.py:51\u001B[0m, in \u001B[0;36mload_backend\u001B[1;34m(mod_name)\u001B[0m\n\u001B[0;32m     48\u001B[0m \u001B[38;5;28;01melse\u001B[39;00m:\n\u001B[0;32m     49\u001B[0m     \u001B[38;5;28;01mraise\u001B[39;00m \u001B[38;5;167;01mNotImplementedError\u001B[39;00m(\u001B[38;5;124m\"\u001B[39m\u001B[38;5;124mUnsupported backend: \u001B[39m\u001B[38;5;132;01m%s\u001B[39;00m\u001B[38;5;124m\"\u001B[39m \u001B[38;5;241m%\u001B[39m mod_name)\n\u001B[1;32m---> 51\u001B[0m \u001B[38;5;28;01mfrom\u001B[39;00m \u001B[38;5;21;01m.\u001B[39;00m\u001B[38;5;21;01m.\u001B[39;00m\u001B[38;5;21;01m_ffi\u001B[39;00m\u001B[38;5;21;01m.\u001B[39;00m\u001B[38;5;21;01mbase\u001B[39;00m \u001B[38;5;28;01mimport\u001B[39;00m load_tensor_adapter  \u001B[38;5;66;03m# imports DGL C library\u001B[39;00m\n\u001B[0;32m     53\u001B[0m version \u001B[38;5;241m=\u001B[39m mod\u001B[38;5;241m.\u001B[39m__version__\n\u001B[0;32m     54\u001B[0m load_tensor_adapter(mod_name, version)\n",
      "File \u001B[1;32m~\\PycharmProjects\\taxo_compl\\.venv\\lib\\site-packages\\dgl\\_ffi\\base.py:50\u001B[0m\n\u001B[0;32m     48\u001B[0m __version__ \u001B[38;5;241m=\u001B[39m libinfo\u001B[38;5;241m.\u001B[39m__version__\n\u001B[0;32m     49\u001B[0m \u001B[38;5;66;03m# library instance of nnvm\u001B[39;00m\n\u001B[1;32m---> 50\u001B[0m _LIB, _LIB_NAME, _DIR_NAME \u001B[38;5;241m=\u001B[39m \u001B[43m_load_lib\u001B[49m\u001B[43m(\u001B[49m\u001B[43m)\u001B[49m\n\u001B[0;32m     52\u001B[0m \u001B[38;5;66;03m# The FFI mode of DGL\u001B[39;00m\n\u001B[0;32m     53\u001B[0m _FFI_MODE \u001B[38;5;241m=\u001B[39m os\u001B[38;5;241m.\u001B[39menviron\u001B[38;5;241m.\u001B[39mget(\u001B[38;5;124m\"\u001B[39m\u001B[38;5;124mDGL_FFI\u001B[39m\u001B[38;5;124m\"\u001B[39m, \u001B[38;5;124m\"\u001B[39m\u001B[38;5;124mauto\u001B[39m\u001B[38;5;124m\"\u001B[39m)\n",
      "File \u001B[1;32m~\\PycharmProjects\\taxo_compl\\.venv\\lib\\site-packages\\dgl\\_ffi\\base.py:39\u001B[0m, in \u001B[0;36m_load_lib\u001B[1;34m()\u001B[0m\n\u001B[0;32m     37\u001B[0m \u001B[38;5;250m\u001B[39m\u001B[38;5;124;03m\"\"\"Load libary by searching possible path.\"\"\"\u001B[39;00m\n\u001B[0;32m     38\u001B[0m lib_path \u001B[38;5;241m=\u001B[39m libinfo\u001B[38;5;241m.\u001B[39mfind_lib_path()\n\u001B[1;32m---> 39\u001B[0m lib \u001B[38;5;241m=\u001B[39m \u001B[43mctypes\u001B[49m\u001B[38;5;241;43m.\u001B[39;49m\u001B[43mCDLL\u001B[49m\u001B[43m(\u001B[49m\u001B[43mlib_path\u001B[49m\u001B[43m[\u001B[49m\u001B[38;5;241;43m0\u001B[39;49m\u001B[43m]\u001B[49m\u001B[43m)\u001B[49m\n\u001B[0;32m     40\u001B[0m dirname \u001B[38;5;241m=\u001B[39m os\u001B[38;5;241m.\u001B[39mpath\u001B[38;5;241m.\u001B[39mdirname(lib_path[\u001B[38;5;241m0\u001B[39m])\n\u001B[0;32m     41\u001B[0m basename \u001B[38;5;241m=\u001B[39m os\u001B[38;5;241m.\u001B[39mpath\u001B[38;5;241m.\u001B[39mbasename(lib_path[\u001B[38;5;241m0\u001B[39m])\n",
      "File \u001B[1;32m~\\AppData\\Local\\Programs\\Python\\Python38\\lib\\ctypes\\__init__.py:369\u001B[0m, in \u001B[0;36mCDLL.__init__\u001B[1;34m(self, name, mode, handle, use_errno, use_last_error, winmode)\u001B[0m\n\u001B[0;32m    366\u001B[0m \u001B[38;5;28mself\u001B[39m\u001B[38;5;241m.\u001B[39m_FuncPtr \u001B[38;5;241m=\u001B[39m _FuncPtr\n\u001B[0;32m    368\u001B[0m \u001B[38;5;28;01mif\u001B[39;00m handle \u001B[38;5;129;01mis\u001B[39;00m \u001B[38;5;28;01mNone\u001B[39;00m:\n\u001B[1;32m--> 369\u001B[0m     \u001B[38;5;28mself\u001B[39m\u001B[38;5;241m.\u001B[39m_handle \u001B[38;5;241m=\u001B[39m \u001B[43m_dlopen\u001B[49m\u001B[43m(\u001B[49m\u001B[38;5;28;43mself\u001B[39;49m\u001B[38;5;241;43m.\u001B[39;49m\u001B[43m_name\u001B[49m\u001B[43m,\u001B[49m\u001B[43m \u001B[49m\u001B[43mmode\u001B[49m\u001B[43m)\u001B[49m\n\u001B[0;32m    370\u001B[0m \u001B[38;5;28;01melse\u001B[39;00m:\n\u001B[0;32m    371\u001B[0m     \u001B[38;5;28mself\u001B[39m\u001B[38;5;241m.\u001B[39m_handle \u001B[38;5;241m=\u001B[39m handle\n",
      "\u001B[1;31mFileNotFoundError\u001B[0m: Could not find module 'C:\\Users\\giochi99_Win\\PycharmProjects\\taxo_compl\\.venv\\lib\\site-packages\\dgl\\dgl.dll'. Try using the full path with constructor syntax."
     ]
    }
   ],
   "source": [
    "import dgl"
   ],
   "metadata": {
    "collapsed": false,
    "ExecuteTime": {
     "end_time": "2024-04-15T10:20:39.367746Z",
     "start_time": "2024-04-15T10:20:38.697919Z"
    }
   },
   "id": "148cd367f8d9591f",
   "execution_count": 24
  }
 ],
 "metadata": {
  "kernelspec": {
   "display_name": "Python 3",
   "language": "python",
   "name": "python3"
  },
  "language_info": {
   "codemirror_mode": {
    "name": "ipython",
    "version": 2
   },
   "file_extension": ".py",
   "mimetype": "text/x-python",
   "name": "python",
   "nbconvert_exporter": "python",
   "pygments_lexer": "ipython2",
   "version": "2.7.6"
  }
 },
 "nbformat": 4,
 "nbformat_minor": 5
}
